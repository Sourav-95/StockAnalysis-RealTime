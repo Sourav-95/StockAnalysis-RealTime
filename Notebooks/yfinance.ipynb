{
 "cells": [
  {
   "cell_type": "code",
   "execution_count": 24,
   "metadata": {
    "id": "EmNFU4Z6hS69"
   },
   "outputs": [],
   "source": [
    "import pandas as pd\n",
    "import numpy as np\n",
    "import yfinance as yf\n",
    "from requests.exceptions import HTTPError\n",
    "import sys\n",
    "sys.path.append(r'G:\\StockAnalysis_API\\StockAnalysis-RealTime')\n",
    "\n",
    "from src_comp.exception import CustomException\n",
    "import contextlib\n",
    "import logging\n",
    "import io"
   ]
  },
  {
   "cell_type": "code",
   "execution_count": 26,
   "metadata": {
    "id": "cUJnMG3mhs1S"
   },
   "outputs": [],
   "source": [
    "stock_name = \"WAAREERTL.BO\"\n",
    "stock_ = yf.Ticker(stock_name)\n",
    "# all_info = stock_.info\n",
    "\n",
    "# # get all stock info\n",
    "# try:\n",
    "#     all_info = stock_.info\n",
    "# except Exception as e:\n",
    "#     raise CustomException (f'Error occured')\n",
    "\n",
    "# Backup the original stdout and stderr\n",
    "stdout_backup = sys.stdout\n",
    "stderr_backup = sys.stderr\n",
    "sys.stdout = io.StringIO()\n",
    "sys.stderr = io.StringIO()\n",
    "\n",
    "try:\n",
    "    # Call your function here\n",
    "    all_info = stock_.info\n",
    "\n",
    "    # Get any output or error messages\n",
    "    output = sys.stdout.getvalue()\n",
    "    error_output = sys.stderr.getvalue()\n",
    "\n",
    "    # Check for \"404 Client Error\" and pass if found\n",
    "    if \"404 Client Error\" in error_output:\n",
    "        pass  # Do nothing if it's a 404 error\n",
    "    else:\n",
    "        print(output)  # Print other outputs if needed\n",
    "finally:\n",
    "    # Restore the original stdout and stderr\n",
    "    sys.stdout = stdout_backup\n",
    "    sys.stderr = stderr_backup"
   ]
  },
  {
   "cell_type": "code",
   "execution_count": 5,
   "metadata": {
    "colab": {
     "base_uri": "https://localhost:8080/"
    },
    "id": "23d_rxdNicc3",
    "outputId": "8c9220c9-a0ea-41ce-d545-02fc3929f836"
   },
   "outputs": [
    {
     "data": {
      "text/plain": [
       "['trailingPegRatio']"
      ]
     },
     "execution_count": 5,
     "metadata": {},
     "output_type": "execute_result"
    }
   ],
   "source": [
    "all_key = [keys for keys in all_info.keys()]\n",
    "all_key"
   ]
  },
  {
   "cell_type": "code",
   "execution_count": 6,
   "metadata": {
    "id": "JelzPoeCjruX"
   },
   "outputs": [],
   "source": [
    "# List of keys to filter\n",
    "info_keys = ['symbol', 'shortName', 'industry', 'sector', 'longBusinessSummary', 'marketCap', 'previousClose',\n",
    "             'currentPrice', 'targetHighPrice', 'targetLowPrice', 'targetMeanPrice', 'targetMedianPrice',\n",
    "             'dividendRate', 'dividendYield', 'exDividendDate', 'trailingAnnualDividendRate', 'trailingAnnualDividendYield',\n",
    "             'payoutRatio', 'fiveYearAvgDividendYield','beta', 'trailingPE', 'forwardPE',\n",
    "             'enterpriseValue', 'fiftyTwoWeekLow', 'fiftyTwoWeekHigh', 'priceToSalesTrailing12Months', 'twoHundredDayAverage',\n",
    "             'profitMargins',  'bookValue', 'priceToBook', 'trailingEps', 'forwardEps','enterpriseToRevenue', 'enterpriseToEbitda',\n",
    "             'firstTradeDateEpochUtc', 'recommendationKey', 'numberOfAnalystOpinions', 'totalCash', 'totalCashPerShare',\n",
    "             'ebitda', 'totalDebt', 'quickRatio', 'currentRatio', 'totalRevenue', 'debtToEquity',\n",
    "             'revenuePerShare', 'returnOnAssets', 'returnOnEquity', 'freeCashflow', 'operatingCashflow',\n",
    "             'earningsGrowth', 'revenueGrowth', 'grossMargins', 'ebitdaMargins', 'operatingMargins','trailingPegRatio', 'netIncomeToCommon']\n",
    "\n",
    "\n",
    "# Filter the dictionary\n",
    "filtered_all_info = {key: all_info[key] for key in info_keys if key in all_info}"
   ]
  },
  {
   "cell_type": "code",
   "execution_count": 7,
   "metadata": {},
   "outputs": [
    {
     "data": {
      "text/plain": [
       "{'trailingPegRatio': None}"
      ]
     },
     "execution_count": 7,
     "metadata": {},
     "output_type": "execute_result"
    }
   ],
   "source": [
    "all_info"
   ]
  },
  {
   "cell_type": "code",
   "execution_count": 8,
   "metadata": {
    "id": "Miw5HvPcj3wQ"
   },
   "outputs": [],
   "source": [
    "data_all_info = pd.DataFrame([filtered_all_info])"
   ]
  },
  {
   "cell_type": "code",
   "execution_count": 9,
   "metadata": {
    "colab": {
     "base_uri": "https://localhost:8080/",
     "height": 1000
    },
    "id": "_BbySIV0hoB4",
    "outputId": "493cb990-bf7c-4b9a-f87b-d330e991c215"
   },
   "outputs": [
    {
     "data": {
      "text/html": [
       "<div>\n",
       "<style scoped>\n",
       "    .dataframe tbody tr th:only-of-type {\n",
       "        vertical-align: middle;\n",
       "    }\n",
       "\n",
       "    .dataframe tbody tr th {\n",
       "        vertical-align: top;\n",
       "    }\n",
       "\n",
       "    .dataframe thead th {\n",
       "        text-align: right;\n",
       "    }\n",
       "</style>\n",
       "<table border=\"1\" class=\"dataframe\">\n",
       "  <thead>\n",
       "    <tr style=\"text-align: right;\">\n",
       "      <th></th>\n",
       "      <th>0</th>\n",
       "    </tr>\n",
       "  </thead>\n",
       "  <tbody>\n",
       "    <tr>\n",
       "      <th>trailingPegRatio</th>\n",
       "      <td>None</td>\n",
       "    </tr>\n",
       "  </tbody>\n",
       "</table>\n",
       "</div>"
      ],
      "text/plain": [
       "                     0\n",
       "trailingPegRatio  None"
      ]
     },
     "execution_count": 9,
     "metadata": {},
     "output_type": "execute_result"
    }
   ],
   "source": [
    "data_all_info.T"
   ]
  },
  {
   "cell_type": "code",
   "execution_count": 10,
   "metadata": {
    "id": "DWtWC38yqkOi"
   },
   "outputs": [
    {
     "name": "stderr",
     "output_type": "stream",
     "text": [
      "$WAAREERTL.NS: possibly delisted; no timezone found\n"
     ]
    }
   ],
   "source": [
    "dividends_splits = stock_.actions.reset_index()\n",
    "dividends_splits['Name'] = stock_name"
   ]
  },
  {
   "cell_type": "code",
   "execution_count": 11,
   "metadata": {},
   "outputs": [
    {
     "data": {
      "text/html": [
       "<div>\n",
       "<style scoped>\n",
       "    .dataframe tbody tr th:only-of-type {\n",
       "        vertical-align: middle;\n",
       "    }\n",
       "\n",
       "    .dataframe tbody tr th {\n",
       "        vertical-align: top;\n",
       "    }\n",
       "\n",
       "    .dataframe thead th {\n",
       "        text-align: right;\n",
       "    }\n",
       "</style>\n",
       "<table border=\"1\" class=\"dataframe\">\n",
       "  <thead>\n",
       "    <tr style=\"text-align: right;\">\n",
       "      <th></th>\n",
       "      <th>index</th>\n",
       "      <th>0</th>\n",
       "      <th>Name</th>\n",
       "    </tr>\n",
       "  </thead>\n",
       "  <tbody>\n",
       "  </tbody>\n",
       "</table>\n",
       "</div>"
      ],
      "text/plain": [
       "Empty DataFrame\n",
       "Columns: [index, 0, Name]\n",
       "Index: []"
      ]
     },
     "execution_count": 11,
     "metadata": {},
     "output_type": "execute_result"
    }
   ],
   "source": [
    "dividends_splits"
   ]
  },
  {
   "cell_type": "code",
   "execution_count": 12,
   "metadata": {
    "colab": {
     "base_uri": "https://localhost:8080/"
    },
    "id": "LmSFskdcKiRI",
    "outputId": "b67fd6b2-dce4-48d8-c6a4-b7334bfdb349"
   },
   "outputs": [
    {
     "name": "stderr",
     "output_type": "stream",
     "text": [
      "404 Client Error: Not Found for url: https://query2.finance.yahoo.com/v10/finance/quoteSummary/WAAREERTL.NS?modules=calendarEvents&corsDomain=finance.yahoo.com&formatted=false&symbol=WAAREERTL.NS&crumb=WLFnGCgQ5.6\n"
     ]
    },
    {
     "data": {
      "text/plain": [
       "{}"
      ]
     },
     "execution_count": 12,
     "metadata": {},
     "output_type": "execute_result"
    }
   ],
   "source": [
    "stock_.calendar"
   ]
  },
  {
   "cell_type": "code",
   "execution_count": 11,
   "metadata": {
    "colab": {
     "base_uri": "https://localhost:8080/",
     "height": 1000
    },
    "id": "Rs48azNBKuh1",
    "outputId": "1443c2cc-5881-44cb-8865-6fed52c59069"
   },
   "outputs": [
    {
     "data": {
      "text/html": [
       "<div>\n",
       "<style scoped>\n",
       "    .dataframe tbody tr th:only-of-type {\n",
       "        vertical-align: middle;\n",
       "    }\n",
       "\n",
       "    .dataframe tbody tr th {\n",
       "        vertical-align: top;\n",
       "    }\n",
       "\n",
       "    .dataframe thead th {\n",
       "        text-align: right;\n",
       "    }\n",
       "</style>\n",
       "<table border=\"1\" class=\"dataframe\">\n",
       "  <thead>\n",
       "    <tr style=\"text-align: right;\">\n",
       "      <th></th>\n",
       "    </tr>\n",
       "  </thead>\n",
       "  <tbody>\n",
       "  </tbody>\n",
       "</table>\n",
       "</div>"
      ],
      "text/plain": [
       "Empty DataFrame\n",
       "Columns: []\n",
       "Index: []"
      ]
     },
     "execution_count": 11,
     "metadata": {},
     "output_type": "execute_result"
    }
   ],
   "source": [
    "stock_.income_stmt"
   ]
  },
  {
   "cell_type": "code",
   "execution_count": 12,
   "metadata": {
    "colab": {
     "base_uri": "https://localhost:8080/",
     "height": 1000
    },
    "id": "5QLSU5kFK9Mx",
    "outputId": "83baef27-2805-4250-f05f-932e6a8fd009"
   },
   "outputs": [
    {
     "data": {
      "text/html": [
       "<div>\n",
       "<style scoped>\n",
       "    .dataframe tbody tr th:only-of-type {\n",
       "        vertical-align: middle;\n",
       "    }\n",
       "\n",
       "    .dataframe tbody tr th {\n",
       "        vertical-align: top;\n",
       "    }\n",
       "\n",
       "    .dataframe thead th {\n",
       "        text-align: right;\n",
       "    }\n",
       "</style>\n",
       "<table border=\"1\" class=\"dataframe\">\n",
       "  <thead>\n",
       "    <tr style=\"text-align: right;\">\n",
       "      <th></th>\n",
       "    </tr>\n",
       "  </thead>\n",
       "  <tbody>\n",
       "  </tbody>\n",
       "</table>\n",
       "</div>"
      ],
      "text/plain": [
       "Empty DataFrame\n",
       "Columns: []\n",
       "Index: []"
      ]
     },
     "execution_count": 12,
     "metadata": {},
     "output_type": "execute_result"
    }
   ],
   "source": [
    "stock_.cash_flow"
   ]
  },
  {
   "cell_type": "code",
   "execution_count": 13,
   "metadata": {
    "colab": {
     "base_uri": "https://localhost:8080/",
     "height": 458
    },
    "id": "zI5NLByeO5m8",
    "outputId": "4599bd9d-b8a0-4332-f110-80723d6bdd18"
   },
   "outputs": [],
   "source": [
    "stock_.get_shares_full(start=\"2022-01-01\", end=None)"
   ]
  },
  {
   "cell_type": "code",
   "execution_count": null,
   "metadata": {},
   "outputs": [],
   "source": []
  },
  {
   "cell_type": "code",
   "execution_count": null,
   "metadata": {},
   "outputs": [],
   "source": []
  }
 ],
 "metadata": {
  "colab": {
   "provenance": []
  },
  "kernelspec": {
   "display_name": "myvenv",
   "language": "python",
   "name": "python3"
  },
  "language_info": {
   "codemirror_mode": {
    "name": "ipython",
    "version": 3
   },
   "file_extension": ".py",
   "mimetype": "text/x-python",
   "name": "python",
   "nbconvert_exporter": "python",
   "pygments_lexer": "ipython3",
   "version": "3.11.9"
  }
 },
 "nbformat": 4,
 "nbformat_minor": 0
}
